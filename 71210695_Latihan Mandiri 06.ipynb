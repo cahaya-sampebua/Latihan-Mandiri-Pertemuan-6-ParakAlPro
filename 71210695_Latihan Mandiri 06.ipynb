{
  "nbformat": 4,
  "nbformat_minor": 0,
  "metadata": {
    "colab": {
      "provenance": []
    },
    "kernelspec": {
      "name": "python3",
      "display_name": "Python 3"
    },
    "language_info": {
      "name": "python"
    }
  },
  "cells": [
    {
      "cell_type": "code",
      "execution_count": null,
      "metadata": {
        "id": "zPUxAN7hWxv7"
      },
      "outputs": [],
      "source": [
        "#Soal 6.1\n",
        "\n",
        "n = (int(input(\"Masukkan angka : \")))\n",
        "prima = 2\n",
        "\n",
        "if n > 2:\n",
        "    for i in range(3,n):\n",
        "        for j in range(2,i):\n",
        "            if i % j == 0:\n",
        "                break\n",
        "        else:\n",
        "            prima = i\n",
        "\n",
        "    print(\"{} adalah bilangan prima terdekat yang kurang dari {}.\".format(prima,n))\n",
        "\n",
        "else:\n",
        "    print(\"Tidak ada bilangan prima kurang dari {}.\".format(n))\n",
        "\n"
      ]
    },
    {
      "cell_type": "code",
      "source": [
        "#Soal 6.2\n",
        "\n",
        "from math import factorial\n",
        "\n",
        "n = int(input(\"Masukkan angka : \"))\n",
        "\n",
        "for i in range(n,0,-1):\n",
        "    print(factorial(i),end=\"\\t\")\n",
        "    for j in range(i,0,-1):\n",
        "        print(j,end=\"\\t\")\n",
        "    print()"
      ],
      "metadata": {
        "id": "Gk1s2gc2hhQn"
      },
      "execution_count": null,
      "outputs": []
    },
    {
      "cell_type": "code",
      "source": [
        "#Soal 6.3\n",
        "\n",
        "tinggi = int(input(\"Masukkan tinggi : \"))\n",
        "lebar = int(input(\"Masukkan lebar : \"))\n",
        "baris = 1\n",
        "\n",
        "for i in range(1,(tinggi*lebar)+1):\n",
        "    print(i,end=\" \")\n",
        "    if i == baris*lebar:\n",
        "        baris = baris + 1\n",
        "        print()"
      ],
      "metadata": {
        "id": "rgLSL08Kh_qS"
      },
      "execution_count": null,
      "outputs": []
    }
  ]
}